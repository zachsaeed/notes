{
 "cells": [
  {
   "cell_type": "markdown",
   "metadata": {},
   "source": [
    "# Function\n",
    "Function is reusable set/block of procedures which can be called and executed over and over again\n",
    "It can accept inputs (arguments) and returns an output\n",
    "* They help implement DRY - dont repeat yourself as opposed to WET - write everything twice\n",
    "* helps cleanup and avoid code duplication\n",
    "* abstracts away code for other users\n",
    "* allows us to organise things\n",
    "* enable us to debug a program easily\n",
    "\n",
    "> **Note:** pep:8:\n",
    "> 1- most function names should be lower_snake_case (not camelCase)\n",
    "> 2- leave 2 lines b4 and after method definition\n",
    "\n",
    "### Structure:\n",
    "```console\n",
    "def name_of_function (arguments):\n",
    "    # block of runnable code\n",
    "    # optional return which stops execution and may return a value\n",
    "```    "
   ]
  },
  {
   "cell_type": "code",
   "execution_count": 6,
   "metadata": {},
   "outputs": [
    {
     "name": "stdout",
     "output_type": "stream",
     "text": [
      "Hi\n"
     ]
    }
   ],
   "source": [
    "def say_hi():\n",
    "    print('Hi')\n",
    "\n",
    "# call/invoke function:\n",
    "say_hi()"
   ]
  },
  {
   "cell_type": "markdown",
   "metadata": {},
   "source": []
  }
 ],
 "metadata": {
  "kernelspec": {
   "display_name": "Python 3",
   "language": "python",
   "name": "python3"
  },
  "language_info": {
   "codemirror_mode": {
    "name": "ipython",
    "version": 3
   },
   "file_extension": ".py",
   "mimetype": "text/x-python",
   "name": "python",
   "nbconvert_exporter": "python",
   "pygments_lexer": "ipython3",
   "version": "3.7.4"
  }
 },
 "nbformat": 4,
 "nbformat_minor": 4
}
