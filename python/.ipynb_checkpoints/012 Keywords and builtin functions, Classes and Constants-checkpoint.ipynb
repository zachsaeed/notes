{
 "cells": [
  {
   "cell_type": "markdown",
   "metadata": {},
   "source": [
    "# List of Keywords in Python\n",
    "Keywords are the reserved words in Python. We cannot use a keyword as variable name, function name or any other identifier.\n",
    "You can always get the list of keywords in your current version by typing the following in the prompt."
   ]
  },
  {
   "cell_type": "code",
   "execution_count": 61,
   "metadata": {},
   "outputs": [
    {
     "name": "stdout",
     "output_type": "stream",
     "text": [
      "['False', 'None', 'True', 'and', 'as', 'assert', 'async', 'await', 'break', 'class', 'continue', 'def', 'del', 'elif', 'else', 'except', 'finally', 'for', 'from', 'global', 'if', 'import', 'in', 'is', 'lambda', 'nonlocal', 'not', 'or', 'pass', 'raise', 'return', 'try', 'while', 'with', 'yield']\n",
      "Total: 35\n"
     ]
    }
   ],
   "source": [
    "import keyword\n",
    "print(keyword.kwlist)\n",
    "print('Total: ' + str(len(keyword.kwlist)) )"
   ]
  },
  {
   "cell_type": "markdown",
   "metadata": {},
   "source": [
    "The above keywords may get altered in different versions of Python. Some extra might get added or some might be removed.\n",
    "> Sequence containing all the keywords defined for the interpreter. If any keywords are defined to only be active when particular __future__ statements are in effect, these will be included as well.\n",
    "\n",
    "# Description of Keywords in Python with examples\n",
    "\n",
    "## True, False\n",
    "True and False are truth values in Python. They are the results of comparison operations or logical (Boolean) operations in Python. For example:"
   ]
  },
  {
   "cell_type": "code",
   "execution_count": 62,
   "metadata": {},
   "outputs": [
    {
     "name": "stdout",
     "output_type": "stream",
     "text": [
      "True\n",
      "True\n",
      "True\n",
      "False\n",
      "False\n",
      "False\n"
     ]
    }
   ],
   "source": [
    "print(1==1)\n",
    "print(5 > 3)\n",
    "print(True or False)\n",
    "print(10 <= 1)\n",
    "print(3 > 7)\n",
    "print(True and False)"
   ]
  },
  {
   "cell_type": "markdown",
   "metadata": {},
   "source": [
    "Here we can see that the first three statements are true so the interpreter returns True and returns False for the remaining three statements. True and False in python is same as 1 and 0. This can be justified with the following example:"
   ]
  },
  {
   "cell_type": "code",
   "execution_count": 63,
   "metadata": {},
   "outputs": [
    {
     "name": "stdout",
     "output_type": "stream",
     "text": [
      "True\n",
      "True\n",
      "2\n",
      "None\n"
     ]
    }
   ],
   "source": [
    "print(True == 1)\n",
    "print(False == 0)\n",
    "print(True + True)\n",
    "print(None)"
   ]
  },
  {
   "cell_type": "markdown",
   "metadata": {},
   "source": [
    "## None\n",
    "\n",
    "None is a special constant in Python that represents the absence of a value or a null value.\n",
    "\n",
    "It is an object of its own datatype, the NoneType. We cannot create multiple None objects but can assign it to variables. These variables will be equal to one another.\n",
    "\n",
    "We must take special care that None does not imply False, 0 or any empty list, dictionary, string etc. For example:"
   ]
  },
  {
   "cell_type": "code",
   "execution_count": 64,
   "metadata": {},
   "outputs": [
    {
     "name": "stdout",
     "output_type": "stream",
     "text": [
      "False\n",
      "False\n",
      "False\n",
      "True\n"
     ]
    }
   ],
   "source": [
    "print(None == 0)\n",
    "print(None == [])\n",
    "print(None == False)\n",
    "x = None\n",
    "y = None\n",
    "print(x == y)"
   ]
  },
  {
   "cell_type": "markdown",
   "metadata": {},
   "source": [
    "Void functions that do not return anything will return a None object automatically. None is also returned by functions in which the program flow does not encounter a return statement. For example:"
   ]
  },
  {
   "cell_type": "code",
   "execution_count": 65,
   "metadata": {},
   "outputs": [
    {
     "name": "stdout",
     "output_type": "stream",
     "text": [
      "None\n"
     ]
    }
   ],
   "source": [
    "def a_void_function():\n",
    "    a = 1\n",
    "    b = 2\n",
    "    c = a + b\n",
    "\n",
    "x = a_void_function()\n",
    "print(x)"
   ]
  },
  {
   "cell_type": "markdown",
   "metadata": {},
   "source": [
    "This program has a function that does not return a value, although it does some operations inside. So when we print x, we get None which is returned automatically (implicitly). Similarly, here is another example:"
   ]
  },
  {
   "cell_type": "code",
   "execution_count": 66,
   "metadata": {},
   "outputs": [
    {
     "name": "stdout",
     "output_type": "stream",
     "text": [
      "None\n"
     ]
    }
   ],
   "source": [
    "def improper_return_function(a):\n",
    "    if (a % 2) == 0:\n",
    "        return True\n",
    "\n",
    "x = improper_return_function(3)\n",
    "print(x)"
   ]
  },
  {
   "cell_type": "markdown",
   "metadata": {},
   "source": [
    "Although this function has a return statement, it is not reached in every case. The function will return True only when the input is even.\n",
    "\n",
    "If we give the function an odd number, None is returned implicitly.\n",
    "\n",
    "## and, or , not\n",
    "and, or, not are the logical operators in Python. and will result into True only if both the operands are True. The truth table for and is given below:\n",
    "\n",
    "> Truth table for and\n",
    "\n",
    "| A       | B     | A and B |\n",
    "|---------|-------|---------|\n",
    "| True    | True  | True    | \n",
    "| True    | False | False   |\n",
    "| False   | True  | False   |\n",
    "| False   | False | False   |\n",
    "\n",
    "or will result into True if any of the operands is True. The truth table for or is given below:\n",
    "\n",
    "> Truth table for or        \n",
    "\n",
    "| A       | B     | A or B  |\n",
    "|---------|-------|---------|\n",
    "| True    | True  | True    | \n",
    "| True    | False | True    |\n",
    "| False   | True  | True    |\n",
    "| False   | False | False   |\n",
    "\n",
    "not operator is used to invert the truth value. The truth table for not is given below:\n",
    "\n",
    "> Truth tabel for not\n",
    "\n",
    "| A     | not A |\n",
    "|-------|-------|\n",
    "| True  | False |\n",
    "| False | True  |\n",
    "\n",
    "some example of their usage are given below"
   ]
  },
  {
   "cell_type": "code",
   "execution_count": 67,
   "metadata": {},
   "outputs": [
    {
     "name": "stdout",
     "output_type": "stream",
     "text": [
      "False\n",
      "True\n",
      "True\n"
     ]
    }
   ],
   "source": [
    "print(True and False)\n",
    "print(True or False)\n",
    "print(not False)"
   ]
  },
  {
   "cell_type": "markdown",
   "metadata": {},
   "source": [
    "## as\n",
    "as is used to create an alias while importing a module. It means giving a different name (user-defined) to a module while importing it.\n",
    "\n",
    "As for example, Python has a standard module called math. Suppose we want to calculate what cosine pi is using an alias. We can do it as follows using as:"
   ]
  },
  {
   "cell_type": "code",
   "execution_count": 68,
   "metadata": {},
   "outputs": [
    {
     "name": "stdout",
     "output_type": "stream",
     "text": [
      "-1.0\n"
     ]
    }
   ],
   "source": [
    "import math as myAlias\n",
    "print(myAlias.cos(myAlias.pi))"
   ]
  },
  {
   "cell_type": "markdown",
   "metadata": {},
   "source": [
    "Here we imported the math module by giving it the name myAlias. Now we can refer to the math module with this name. Using this name we calculated cos(pi) and got -1.0 as the answer.\n",
    "\n",
    "## assert\n",
    "assert is used for debugging purposes.\n",
    "\n",
    "While programming, sometimes we wish to know the internal state or check if our assumptions are true. assert helps us do this and find bugs more conveniently. assert is followed by a condition.\n",
    "\n",
    "If the condition is true, nothing happens. But if the condition is false, AssertionError is raised. For example:"
   ]
  },
  {
   "cell_type": "code",
   "execution_count": 69,
   "metadata": {},
   "outputs": [
    {
     "ename": "AssertionError",
     "evalue": "",
     "output_type": "error",
     "traceback": [
      "\u001b[0;31m---------------------------------------------------------------------------\u001b[0m",
      "\u001b[0;31mAssertionError\u001b[0m                            Traceback (most recent call last)",
      "\u001b[0;32m<ipython-input-69-4f2812c1d2fe>\u001b[0m in \u001b[0;36m<module>\u001b[0;34m\u001b[0m\n\u001b[1;32m      1\u001b[0m \u001b[0ma\u001b[0m \u001b[0;34m=\u001b[0m \u001b[0;36m4\u001b[0m\u001b[0;34m\u001b[0m\u001b[0;34m\u001b[0m\u001b[0m\n\u001b[1;32m      2\u001b[0m \u001b[0;32massert\u001b[0m \u001b[0ma\u001b[0m \u001b[0;34m<\u001b[0m \u001b[0;36m5\u001b[0m\u001b[0;34m\u001b[0m\u001b[0;34m\u001b[0m\u001b[0m\n\u001b[0;32m----> 3\u001b[0;31m \u001b[0;32massert\u001b[0m \u001b[0ma\u001b[0m \u001b[0;34m>\u001b[0m \u001b[0;36m5\u001b[0m\u001b[0;34m\u001b[0m\u001b[0;34m\u001b[0m\u001b[0m\n\u001b[0m",
      "\u001b[0;31mAssertionError\u001b[0m: "
     ]
    }
   ],
   "source": [
    "a = 4\n",
    "assert a < 5\n",
    "assert a > 5"
   ]
  },
  {
   "cell_type": "markdown",
   "metadata": {},
   "source": [
    "For our better understanding, we can also provide a message to be printed with the AssertionError."
   ]
  },
  {
   "cell_type": "code",
   "execution_count": null,
   "metadata": {},
   "outputs": [],
   "source": [
    "a = 4\n",
    "assert a > 5, \"The value of a is too small\""
   ]
  },
  {
   "cell_type": "markdown",
   "metadata": {},
   "source": [
    "At this point we can note that,\n",
    "```python\n",
    "assert condition, message\n",
    "```\n",
    "is equivalent to,\n",
    "```python\n",
    "if not condition:\n",
    "    raise AssertionError(message)\n",
    "```\n",
    "\n",
    "## async, await\n",
    "\n",
    "The async and await keywords are provided by the asyncio library in Python. They are used to write concurrent code in Python. For example,"
   ]
  },
  {
   "cell_type": "code",
   "execution_count": null,
   "metadata": {},
   "outputs": [],
   "source": [
    "import asyncio\n",
    "\n",
    "async def main():\n",
    "    print('Hello')\n",
    "    await asyncio.sleep(1)\n",
    "    print('world')\n",
    "\n",
    "await main()"
   ]
  },
  {
   "cell_type": "markdown",
   "metadata": {},
   "source": [
    "In the above program, the async keyword specifies that the function will be executed asynchronously.\n",
    "\n",
    "Here, first Hello is printed. The await keyword makes the program wait for 1 second. And then the world is printed.\n",
    "\n",
    "## break, continue\n",
    "break and continue are used inside for and while loops to alter their normal behavior.\n",
    "\n",
    "break will end the smallest loop it is in and control flows to the statement immediately below the loop. continue causes to end the current iteration of the loop, but not the whole loop.\n",
    "\n",
    "This can be illustrated with the following two examples:"
   ]
  },
  {
   "cell_type": "code",
   "execution_count": null,
   "metadata": {},
   "outputs": [],
   "source": [
    "for i in range(1,11):\n",
    "    if i == 5:\n",
    "        break\n",
    "    print(i)"
   ]
  },
  {
   "cell_type": "markdown",
   "metadata": {},
   "source": [
    "Here, the for loop intends to print numbers from 1 to 10. But the if condition is met when i is equal to 5 and we break from the loop. Thus, only the range 1 to 4 is printed."
   ]
  },
  {
   "cell_type": "code",
   "execution_count": null,
   "metadata": {},
   "outputs": [],
   "source": [
    "for i in range(1,11):\n",
    "    if i == 5:\n",
    "        continue\n",
    "    print(i)"
   ]
  },
  {
   "cell_type": "markdown",
   "metadata": {},
   "source": [
    "Here we use continue for the same program. So, when the condition is met, that iteration is skipped. But we do not exit the loop. Hence, all the values except 5 is printed out.\n",
    "\n",
    "## class\n",
    "class is used to define a new user-defined class in Python.\n",
    "\n",
    "Class is a collection of related attributes and methods that try to represent a real world situation. This idea of putting data and functions together in a class is central to the concept of object-oriented programming (OOP).\n",
    "\n",
    "Classes can be defined anywhere in a program. But it is a good practice to define a single class in a module. Following is a sample usage:"
   ]
  },
  {
   "cell_type": "code",
   "execution_count": null,
   "metadata": {},
   "outputs": [],
   "source": [
    "class ExampleClass:\n",
    "    \n",
    "    def function1(parameters):\n",
    "        pass\n",
    "    \n",
    "    def function2(parameters):\n",
    "        pass"
   ]
  },
  {
   "cell_type": "markdown",
   "metadata": {},
   "source": [
    "## def\n",
    "def is used to define a user-defined function.\n",
    "\n",
    "Function is a block of related statements, which together does some specific task. It helps us organize code into manageable chunks and also to do some repetitive task.\n",
    "\n",
    "The usage of def is shown below:"
   ]
  },
  {
   "cell_type": "code",
   "execution_count": null,
   "metadata": {},
   "outputs": [],
   "source": [
    "def function_name(parameters):\n",
    "    pass"
   ]
  },
  {
   "cell_type": "markdown",
   "metadata": {},
   "source": [
    "## del\n",
    "del is used to delete the reference to an object. Everything is object in Python. We can delete a variable reference using del"
   ]
  },
  {
   "cell_type": "code",
   "execution_count": null,
   "metadata": {},
   "outputs": [],
   "source": [
    "a = b = 5\n",
    "del a\n",
    "print(a)"
   ]
  },
  {
   "cell_type": "code",
   "execution_count": null,
   "metadata": {},
   "outputs": [],
   "source": [
    "print(b)"
   ]
  },
  {
   "cell_type": "markdown",
   "metadata": {},
   "source": [
    "Here we can see that the reference of the variable a was deleted. So, it is no longer defined. But b still exists.\n",
    "\n",
    "del is also used to delete items from a list or a dictionary:"
   ]
  },
  {
   "cell_type": "code",
   "execution_count": null,
   "metadata": {},
   "outputs": [],
   "source": [
    "a = ['x','y','z']\n",
    "del a[1]\n",
    "print(a)"
   ]
  },
  {
   "cell_type": "markdown",
   "metadata": {},
   "source": [
    "## if, else, elif\n",
    "if, else, elif are used for conditional branching or decision making.\n",
    "\n",
    "When we want to test some condition and execute a block only if the condition is true, then we use if and elif. elif is short for else if. else is the block which is executed if the condition is false. This will be clear with the following example:"
   ]
  },
  {
   "cell_type": "code",
   "execution_count": null,
   "metadata": {},
   "outputs": [],
   "source": [
    "def if_example(a):\n",
    "    if a == 1:\n",
    "        print('One')\n",
    "    elif a == 2:\n",
    "        print('Two')\n",
    "    else:\n",
    "        print('Something else')\n",
    "\n",
    "if_example(2)\n",
    "if_example(4)\n",
    "if_example(1)"
   ]
  },
  {
   "cell_type": "markdown",
   "metadata": {},
   "source": [
    "Here, the function checks the input number and prints the result if it is 1 or 2. Any input other than this will cause the else part of the code to execute.\n",
    "\n",
    "## except, raise, try\n",
    "\n",
    "except, raise, try are used with exceptions in Python.\n",
    "\n",
    "Exceptions are basically errors that suggests something went wrong while executing our program. IOError, ValueError, ZeroDivisionError, ImportError, NameError, TypeError etc. are few examples of exception in Python. try...except blocks are used to catch exceptions in Python.\n",
    "\n",
    "We can raise an exception explicitly with the raise keyword. Following is an example:"
   ]
  },
  {
   "cell_type": "code",
   "execution_count": null,
   "metadata": {},
   "outputs": [],
   "source": [
    "def reciprocal(num):\n",
    "    try:\n",
    "        r = 1/num\n",
    "    except:\n",
    "        print('Exception caught')\n",
    "        return\n",
    "    return r\n",
    "\n",
    "print(reciprocal(10))\n",
    "print(reciprocal(0))"
   ]
  },
  {
   "cell_type": "markdown",
   "metadata": {},
   "source": [
    "Here, the function reciprocal() returns the reciprocal of the input number.\n",
    "\n",
    "When we enter 10, we get the normal output of 0.1. But when we input 0, a ZeroDivisionError is raised automatically.\n",
    "\n",
    "This is caught by our try…except block and we return None. We could have also raised the ZeroDivisionError explicitly by checking the input and handled it elsewhere as follows:"
   ]
  },
  {
   "cell_type": "code",
   "execution_count": null,
   "metadata": {},
   "outputs": [],
   "source": [
    "if num == 0:\n",
    "    raise ZeroDivisionError('cannot divide')"
   ]
  },
  {
   "cell_type": "markdown",
   "metadata": {},
   "source": [
    "## finally\n",
    "finally is used with try…except block to close up resources or file streams.\n",
    "\n",
    "Using finally ensures that the block of code inside it gets executed even if there is an unhandled exception. For example:\n",
    "\n",
    "```python\n",
    "try:\n",
    "    Try-block\n",
    "except exception1:\n",
    "    Exception1-block\n",
    "except exception2:\n",
    "    Exception2-block\n",
    "else:\n",
    "    Else-block\n",
    "finally:\n",
    "    Finally-block\n",
    "```\n",
    "\n",
    "Here if there is an exception in the Try-block, it is handled in the except or else block. But no matter in what order the execution flows, we can rest assured that the Finally-block is executed even if there is an error. This is useful in cleaning up the resources.\n",
    "\n",
    "## for\n",
    "for is used for looping. Generally we use for when we know the number of times we want to loop.\n",
    "\n",
    "In Python we can use it with any type of sequence like a list or a string. Here is an example in which for is used to traverse through a list of names:"
   ]
  },
  {
   "cell_type": "code",
   "execution_count": null,
   "metadata": {},
   "outputs": [],
   "source": [
    "names = ['John','Monica','Steven','Robin']\n",
    "for i in names:\n",
    "    print('Hello '+i)"
   ]
  },
  {
   "cell_type": "markdown",
   "metadata": {},
   "source": [
    "## from, import\n",
    "import keyword is used to import modules into the current namespace. from…import is used to import specific attributes or functions into the current namespace. For example:"
   ]
  },
  {
   "cell_type": "code",
   "execution_count": null,
   "metadata": {},
   "outputs": [],
   "source": [
    "import math"
   ]
  },
  {
   "cell_type": "markdown",
   "metadata": {},
   "source": [
    "will import the math module. Now we can use the cos() function inside it as math.cos(). But if we wanted to import just the cos() function, this can done using from as"
   ]
  },
  {
   "cell_type": "code",
   "execution_count": null,
   "metadata": {},
   "outputs": [],
   "source": [
    "from math import cos"
   ]
  },
  {
   "cell_type": "markdown",
   "metadata": {},
   "source": [
    "now we can use the function simply as cos(), no need to write math.cos().\n",
    "\n",
    "Learn more on Python modules and import statement.\n",
    "\n",
    "## global\n",
    "global is used to declare that a variable inside the function is global (outside the function).\n",
    "\n",
    "If we need to read the value of a global variable, it is not necessary to define it as global. This is understood.\n",
    "\n",
    "If we need to modify the value of a global variable inside a function, then we must declare it with global. Otherwise a local variable with that name is created.\n",
    "\n",
    "Following example will help us clarify this."
   ]
  },
  {
   "cell_type": "code",
   "execution_count": null,
   "metadata": {},
   "outputs": [],
   "source": [
    "globvar = 10\n",
    "\n",
    "def read1():\n",
    "    print(globvar)\n",
    "\n",
    "def write1():\n",
    "    global globvar\n",
    "    globvar = 5\n",
    "\n",
    "def write2():\n",
    "    globvar = 15\n",
    "\n",
    "read1()\n",
    "write1()\n",
    "read1()\n",
    "write2()\n",
    "read1()"
   ]
  },
  {
   "cell_type": "markdown",
   "metadata": {},
   "source": [
    "Here, the read1() function is just reading the value of globvar. So, we do not need to declare it as global. But the write1() function is modifying the value, so we need to declare the variable as global.\n",
    "\n",
    "We can see in our output that the modification did take place (10 is changed to 5). The write2() also tries to modify this value. But we have not declared it as global.\n",
    "\n",
    "Hence, a new local variable globvar is created which is not visible outside this function. Although we modify this local variable to 15, the global variable remains unchanged. This is clearly visible in our output.\n",
    "\n",
    "## in\n",
    "in is used to test if a sequence (list, tuple, string etc.) contains a value. It returns True if the value is present, else it returns False. For example:"
   ]
  },
  {
   "cell_type": "code",
   "execution_count": null,
   "metadata": {},
   "outputs": [],
   "source": [
    "a = [1, 2, 3, 4, 5]\n",
    "print(5 in a)\n",
    "print(10 in a)"
   ]
  },
  {
   "cell_type": "markdown",
   "metadata": {},
   "source": [
    "The secondary use of in is to traverse through a sequence in a for loop."
   ]
  },
  {
   "cell_type": "code",
   "execution_count": null,
   "metadata": {},
   "outputs": [],
   "source": [
    "for i in 'hello':\n",
    "    print(i)"
   ]
  },
  {
   "cell_type": "markdown",
   "metadata": {},
   "source": [
    "## is\n",
    "is is used in Python for testing object identity. While the == operator is used to test if two variables are equal or not, is is used to test if the two variables refer to the same object.\n",
    "\n",
    "It returns True if the objects are identical and False if not."
   ]
  },
  {
   "cell_type": "code",
   "execution_count": null,
   "metadata": {},
   "outputs": [],
   "source": [
    "print(True is True)\n",
    "print(False is False)\n",
    "print(None is None)"
   ]
  },
  {
   "cell_type": "markdown",
   "metadata": {},
   "source": [
    "We know that there is only one instance of True, False and None in Python, so they are identical."
   ]
  },
  {
   "cell_type": "code",
   "execution_count": null,
   "metadata": {},
   "outputs": [],
   "source": [
    "print([] == [])\n",
    "print([] is [])\n",
    "print({} == {})\n",
    "print({} is {})"
   ]
  },
  {
   "cell_type": "markdown",
   "metadata": {},
   "source": [
    "An empty list or dictionary is equal to another empty one. But they are not identical objects as they are located separately in memory. This is because list and dictionary are mutable (value can be changed)."
   ]
  },
  {
   "cell_type": "code",
   "execution_count": null,
   "metadata": {},
   "outputs": [],
   "source": [
    "print('' == '')\n",
    "print('' is '')\n",
    "print(() == ())\n",
    "print(() is ())"
   ]
  },
  {
   "cell_type": "markdown",
   "metadata": {},
   "source": [
    "Unlike list and dictionary, string and tuple are immutable (value cannot be altered once defined). Hence, two equal string or tuple are identical as well. They refer to the same memory location.\n",
    "\n",
    "## lambda\n",
    "lambda is used to create an anonymous function (function with no name). It is an inline function that does not contain a return statement. It consists of an expression that is evaluated and returned. For example:"
   ]
  },
  {
   "cell_type": "code",
   "execution_count": null,
   "metadata": {},
   "outputs": [],
   "source": [
    "a = lambda x: x*2\n",
    "for i in range(1,6):\n",
    "    print(a(i))"
   ]
  },
  {
   "cell_type": "markdown",
   "metadata": {},
   "source": [
    "Here, we have created an inline function that doubles the value, using the lambda statement. We used this to double the values in a list containing 1 to 5.\n",
    "\n",
    "## nonlocal\n",
    "The use of nonlocal keyword is very much similar to the global keyword. nonlocal is used to declare that a variable inside a nested function (function inside a function) is not local to it, meaning it lies in the outer inclosing function. If we need to modify the value of a non-local variable inside a nested function, then we must declare it with nonlocal. Otherwise a local variable with that name is created inside the nested function. Following example will help us clarify this."
   ]
  },
  {
   "cell_type": "code",
   "execution_count": null,
   "metadata": {},
   "outputs": [],
   "source": [
    "def outer_function():\n",
    "    a = 5\n",
    "    def inner_function():\n",
    "        nonlocal a\n",
    "        a = 10\n",
    "        print(\"Inner function: \",a)\n",
    "    inner_function()\n",
    "    print(\"Outer function: \",a)\n",
    "\n",
    "outer_function()"
   ]
  },
  {
   "cell_type": "markdown",
   "metadata": {},
   "source": [
    "Here, the inner_function() is nested within the outer_function.\n",
    "\n",
    "The variable a is in the outer_function(). So, if we want to modify it in the inner_function(), we must declare it as nonlocal. Notice that a is not a global variable.\n",
    "\n",
    "Hence, we see from the output that the variable was successfully modified inside the nested inner_function(). The result of not using the nonlocal keyword is as follows:"
   ]
  },
  {
   "cell_type": "code",
   "execution_count": null,
   "metadata": {},
   "outputs": [],
   "source": [
    "def outer_function():\n",
    "    a = 5\n",
    "    def inner_function():\n",
    "        a = 10\n",
    "        print(\"Inner function: \",a)\n",
    "    inner_function()\n",
    "    print(\"Outer function: \",a)\n",
    "\n",
    "outer_function()"
   ]
  },
  {
   "cell_type": "markdown",
   "metadata": {},
   "source": [
    "Here, we do not declare that the variable a inside the nested function is nonlocal. Hence, a new local variable with the same name is created, but the non-local a is not modified as seen in our output.\n",
    "\n",
    "## pass\n",
    "pass is a null statement in Python. Nothing happens when it is executed. It is used as a placeholder.\n",
    "\n",
    "Suppose we have a function that is not implemented yet, but we want to implement it in the future. Simply writing,\n",
    "```python\n",
    "def function(args):\n",
    "```\n",
    "in the middle of a program will give us IndentationError. Instead of this, we construct a blank body with the pass statement."
   ]
  },
  {
   "cell_type": "code",
   "execution_count": null,
   "metadata": {},
   "outputs": [],
   "source": [
    "def function(args):\n",
    "    pass"
   ]
  },
  {
   "cell_type": "markdown",
   "metadata": {},
   "source": [
    "We can do the same thing in an empty class as well."
   ]
  },
  {
   "cell_type": "code",
   "execution_count": null,
   "metadata": {},
   "outputs": [],
   "source": [
    "class example:\n",
    "    pass"
   ]
  },
  {
   "cell_type": "markdown",
   "metadata": {},
   "source": [
    "## return\n",
    "return statement is used inside a function to exit it and return a value.\n",
    "\n",
    "If we do not return a value explicitly, None is returned automatically. This is verified with the following example."
   ]
  },
  {
   "cell_type": "code",
   "execution_count": null,
   "metadata": {},
   "outputs": [],
   "source": [
    "def func_return():\n",
    "    a = 10\n",
    "    return a\n",
    "\n",
    "def no_return():\n",
    "    a = 10\n",
    "\n",
    "print(func_return())\n",
    "print(no_return())"
   ]
  },
  {
   "cell_type": "markdown",
   "metadata": {},
   "source": [
    "## while\n",
    "while is used for looping in Python.\n",
    "\n",
    "The statements inside a while loop continue to execute until the condition for the while loop evaluates to False or a break statement is encountered. Following program illustrates this."
   ]
  },
  {
   "cell_type": "code",
   "execution_count": null,
   "metadata": {},
   "outputs": [],
   "source": [
    "i = 5\n",
    "while(i):\n",
    "    print(i)\n",
    "    i = i – 1"
   ]
  },
  {
   "cell_type": "markdown",
   "metadata": {},
   "source": [
    "> Note that 0 is equal to False.\n",
    "\n",
    "## with\n",
    "with statement is used to wrap the execution of a block of code within methods defined by the context manager.\n",
    "\n",
    "Context manager is a class that implements \\_\\_enter\\_\\_ and \\_\\_exit\\_\\_ methods. Use of with statement ensures that the \\_\\_exit\\_\\_ method is called at the end of the nested block. This concept is similar to the use of try…finally block. Here, is an example.\n",
    "\n",
    "with open('example.txt', 'w') as my_file:\n",
    "    my_file.write('Hello world!')\n",
    "This example writes the text Hello world! to the file example.txt. File objects have \\_\\_enter\\_\\_ and \\_\\_exit\\_\\_ method defined within them, so they act as their own context manager.\n",
    "\n",
    "First the \\_\\_enter\\_\\_ method is called, then the code within with statement is executed and finally the \\_\\_exit\\_\\_ method is called. \\_\\_exit\\_\\_ method is called even if there is an error. It basically closes the file stream.\n",
    "\n",
    "## yield\n",
    "yield is used inside a function like a return statement. But yield returns a generator.\n",
    "\n",
    "Generator is an iterator that generates one item at a time. A large list of value will take up a lot of memory. Generators are useful in this situation as it generates only one value at a time instead of storing all the values in memory. For example,"
   ]
  },
  {
   "cell_type": "code",
   "execution_count": null,
   "metadata": {},
   "outputs": [],
   "source": [
    "g = (2**x for x in range(100))"
   ]
  },
  {
   "cell_type": "markdown",
   "metadata": {},
   "source": [
    "will create a generator g which generates powers of 2 up to the number two raised to the power 99. We can generate the numbers using the next() function as shown below."
   ]
  },
  {
   "cell_type": "code",
   "execution_count": 70,
   "metadata": {},
   "outputs": [
    {
     "name": "stdout",
     "output_type": "stream",
     "text": [
      "32\n",
      "64\n",
      "128\n",
      "256\n",
      "512\n"
     ]
    }
   ],
   "source": [
    "print(next(g))\n",
    "print(next(g))\n",
    "print(next(g))\n",
    "print(next(g))\n",
    "print(next(g))"
   ]
  },
  {
   "cell_type": "markdown",
   "metadata": {},
   "source": [
    "And so on… This type of generator is returned by the yield statement from a function. Here is an example."
   ]
  },
  {
   "cell_type": "code",
   "execution_count": 71,
   "metadata": {},
   "outputs": [
    {
     "name": "stdout",
     "output_type": "stream",
     "text": [
      "0\n",
      "1\n",
      "4\n",
      "9\n",
      "16\n",
      "25\n"
     ]
    }
   ],
   "source": [
    "def generator():\n",
    "    for i in range(6):\n",
    "        yield i*i\n",
    "\n",
    "g = generator()\n",
    "for i in g:\n",
    "    print(i)"
   ]
  },
  {
   "cell_type": "markdown",
   "metadata": {},
   "source": [
    "Here, the function generator() returns a generator that generates square of numbers from 0 to 5. This is printed in the for loop.\n",
    "\n",
    "# Modules bundled with python\n",
    "\n",
    "A large number of pre-defined functions are available as a part of libraries bundled with Python distributions. These functions are defined in modules. A module is a file containing definitions of functions, classes, variables, constants or any other Python objects. Contents of this file can be made available to any other program.\n",
    "\n",
    "These pre-bundled modules are written in C and integrated with the Python interpreter. Each module contains resources for certain system-specific functionalities such as OS management, disk IO, etc. The standard library also contains many Python scripts (with the .py extension) containing useful utilities.\n",
    "\n",
    "To display a list of all available modules, use the following command in the Python console:"
   ]
  },
  {
   "cell_type": "code",
   "execution_count": 3,
   "metadata": {},
   "outputs": [
    {
     "name": "stdout",
     "output_type": "stream",
     "text": [
      "\n",
      "Please wait a moment while I gather a list of all available modules...\n",
      "\n"
     ]
    },
    {
     "name": "stderr",
     "output_type": "stream",
     "text": [
      "/Library/Frameworks/Python.framework/Versions/3.7/lib/python3.7/site-packages/IPython/kernel/__init__.py:13: ShimWarning: The `IPython.kernel` package has been deprecated since IPython 4.0.You should import from ipykernel or jupyter_client instead.\n",
      "  \"You should import from ipykernel or jupyter_client instead.\", ShimWarning)\n"
     ]
    },
    {
     "name": "stdout",
     "output_type": "stream",
     "text": [
      "IPython             asyncio             ipaddress           resource\n",
      "__future__          asyncore            ipykernel           rlcompleter\n",
      "_abc                atexit              ipykernel_launcher  rmagic\n",
      "_ast                attr                ipython_genutils    runpy\n",
      "_asyncio            audioop             itertools           sched\n",
      "_bisect             autopep8            jedi                search_magic\n",
      "_blake2             autoreload          jinja2              secrets\n",
      "_bootlocale         backcall            json                select\n",
      "_bz2                base64              json5               selectors\n",
      "_codecs             bdb                 jsonschema          send2trash\n",
      "_codecs_cn          binascii            jupyter             setuptools\n",
      "_codecs_hk          binhex              jupyter_client      shelve\n",
      "_codecs_iso2022     bisect              jupyter_core        shlex\n",
      "_codecs_jp          bleach              jupyterlab          shutil\n",
      "_codecs_kr          builtins            jupyterlab_server   signal\n",
      "_codecs_tw          bz2                 keyword             site\n",
      "_collections        cProfile            kiwisolver          six\n",
      "_collections_abc    calendar            lib2to3             smtpd\n",
      "_compat_pickle      certifi             linecache           smtplib\n",
      "_compression        cgi                 locale              sndhdr\n",
      "_contextvars        cgitb               logging             socket\n",
      "_crypt              chardet             lzma                socketserver\n",
      "_csv                chunk               macpath             sqlite3\n",
      "_ctypes             cmath               mailbox             sre_compile\n",
      "_ctypes_test        cmd                 mailcap             sre_constants\n",
      "_curses             code                markupsafe          sre_parse\n",
      "_curses_panel       codecs              marshal             ssl\n",
      "_datetime           codeop              math                stat\n",
      "_dbm                collections         matplotlib          statistics\n",
      "_decimal            colorsys            mimetypes           storemagic\n",
      "_dummy_thread       compileall          mistune             string\n",
      "_elementtree        concurrent          mmap                stringprep\n",
      "_functools          configparser        modulefinder        struct\n",
      "_hashlib            contextlib          multiprocessing     subprocess\n",
      "_heapq              contextvars         nbconvert           sunau\n",
      "_imp                copy                nbformat            symbol\n",
      "_io                 copyreg             netrc               sympyprinting\n",
      "_json               crypt               nis                 symtable\n",
      "_locale             csv                 nntplib             sys\n",
      "_lsprof             ctypes              notebook            sysconfig\n",
      "_lzma               curses              ntpath              syslog\n",
      "_markupbase         cycler              nturl2path          tabnanny\n",
      "_md5                cythonmagic         numbers             tarfile\n",
      "_multibytecodec     dataclasses         numpy               telnetlib\n",
      "_multiprocessing    datetime            opcode              tempfile\n",
      "_opcode             dateutil            operator            terminado\n",
      "_operator           dbm                 optparse            termios\n",
      "_osx_support        decimal             os                  test\n",
      "_pickle             decorator           pandas              testpath\n",
      "_posixsubprocess    defusedxml          pandocfilters       tests\n",
      "_py_abc             difflib             parser              textwrap\n",
      "_pydecimal          dis                 parso               this\n",
      "_pyio               distutils           pathlib             threading\n",
      "_pyrsistent_version doctest             pdb                 time\n",
      "_queue              dummy_threading     pexpect             timeit\n",
      "_random             easy_install        pickle              tkinter\n",
      "_scproxy            email               pickleshare         token\n",
      "_sha1               encodings           pickletools         tokenize\n",
      "_sha256             ensurepip           pip                 tornado\n",
      "_sha3               entrypoints         pipes               trace\n",
      "_sha512             enum                pkg_resources       traceback\n",
      "_signal             errno               pkgutil             tracemalloc\n",
      "_sitebuiltins       faulthandler        platform            traitlets\n",
      "_socket             fcntl               plistlib            tty\n",
      "_sqlite3            filecmp             poplib              turtle\n",
      "_sre                fileinput           posix               turtledemo\n",
      "_ssl                fnmatch             posixpath           types\n",
      "_stat               formatter           pprint              typing\n",
      "_string             fractions           profile             unicodedata\n",
      "_strptime           ftplib              prometheus_client   unittest\n",
      "_struct             functools           prompt_toolkit      urllib\n",
      "_symtable           gc                  pstats              urllib3\n",
      "_sysconfigdata_m_darwin_darwin genericpath         pty                 uu\n",
      "_testbuffer         getopt              ptyprocess          uuid\n",
      "_testcapi           getpass             pvectorc            venv\n",
      "_testimportmultiple gettext             pwd                 warnings\n",
      "_testmultiphase     glob                py_compile          wave\n",
      "_thread             grp                 pyclbr              wcwidth\n",
      "_threading_local    gzip                pycodestyle         weakref\n",
      "_tkinter            hashlib             pydoc               webbrowser\n",
      "_tracemalloc        heapq               pydoc_data          webencodings\n",
      "_uuid               helowrld            pyexpat             whoosh\n",
      "_warnings           hmac                pygments            wsgiref\n",
      "_weakref            html                pylab               xdrlib\n",
      "_weakrefset         http                pyparsing           xml\n",
      "_xxtestfuzz         idlelib             pyrsistent          xmlrpc\n",
      "abc                 idna                pytz                xxlimited\n",
      "aifc                imaplib             queue               xxsubtype\n",
      "antigravity         imghdr              quopri              zipapp\n",
      "appnope             imp                 random              zipfile\n",
      "argparse            importlib           re                  zipimport\n",
      "array               importlib_metadata  readline            zipp\n",
      "ast                 inspect             reprlib             zlib\n",
      "asynchat            io                  requests            zmq\n",
      "\n",
      "Enter any module name to get more help.  Or, type \"modules spam\" to search\n",
      "for modules whose name or summary contain the string \"spam\".\n",
      "\n",
      "None\n"
     ]
    },
    {
     "name": "stderr",
     "output_type": "stream",
     "text": [
      "/Library/Frameworks/Python.framework/Versions/3.7/lib/python3.7/pkgutil.py:107: VisibleDeprecationWarning: zmq.eventloop.minitornado is deprecated in pyzmq 14.0 and will be removed.\n",
      "    Install tornado itself to use zmq with the tornado IOLoop.\n",
      "    \n",
      "  yield from walk_packages(path, info.name+'.', onerror)\n"
     ]
    }
   ],
   "source": [
    "print(help('modules'))"
   ]
  },
  {
   "cell_type": "markdown",
   "metadata": {},
   "source": [
    "# Built-ins\n",
    "\n",
    "One of the above modules is builtins modules. This module is integrated with the python interpretor so the module's contents (functions, classes, constants) are loaded automatically as the interpreter starts and are always available.\n",
    "The Python interpreter has a number of built-in functions.  \n",
    "\n",
    "We can access builtin members like this:\n",
    "```python\n",
    "import builtins\n",
    "\n",
    "print(dir(builtins))\n",
    "\n",
    "# and call the members as builtins.int() etc\n",
    "```\n",
    "but since this module is already loaded by the interpretor, it is stored in the private variable __builtins__ and the members are accessible directly:"
   ]
  },
  {
   "cell_type": "code",
   "execution_count": 2,
   "metadata": {},
   "outputs": [
    {
     "name": "stdout",
     "output_type": "stream",
     "text": [
      "['ArithmeticError', 'AssertionError', 'AttributeError', 'BaseException', 'BlockingIOError', 'BrokenPipeError', 'BufferError', 'BytesWarning', 'ChildProcessError', 'ConnectionAbortedError', 'ConnectionError', 'ConnectionRefusedError', 'ConnectionResetError', 'DeprecationWarning', 'EOFError', 'Ellipsis', 'EnvironmentError', 'Exception', 'False', 'FileExistsError', 'FileNotFoundError', 'FloatingPointError', 'FutureWarning', 'GeneratorExit', 'IOError', 'ImportError', 'ImportWarning', 'IndentationError', 'IndexError', 'InterruptedError', 'IsADirectoryError', 'KeyError', 'KeyboardInterrupt', 'LookupError', 'MemoryError', 'ModuleNotFoundError', 'NameError', 'None', 'NotADirectoryError', 'NotImplemented', 'NotImplementedError', 'OSError', 'OverflowError', 'PendingDeprecationWarning', 'PermissionError', 'ProcessLookupError', 'RecursionError', 'ReferenceError', 'ResourceWarning', 'RuntimeError', 'RuntimeWarning', 'StopAsyncIteration', 'StopIteration', 'SyntaxError', 'SyntaxWarning', 'SystemError', 'SystemExit', 'TabError', 'TimeoutError', 'True', 'TypeError', 'UnboundLocalError', 'UnicodeDecodeError', 'UnicodeEncodeError', 'UnicodeError', 'UnicodeTranslateError', 'UnicodeWarning', 'UserWarning', 'ValueError', 'Warning', 'ZeroDivisionError', '__IPYTHON__', '__build_class__', '__debug__', '__doc__', '__import__', '__loader__', '__name__', '__package__', '__spec__', 'abs', 'all', 'any', 'ascii', 'bin', 'bool', 'breakpoint', 'bytearray', 'bytes', 'callable', 'chr', 'classmethod', 'compile', 'complex', 'copyright', 'credits', 'delattr', 'dict', 'dir', 'display', 'divmod', 'enumerate', 'eval', 'exec', 'filter', 'float', 'format', 'frozenset', 'get_ipython', 'getattr', 'globals', 'hasattr', 'hash', 'help', 'hex', 'id', 'input', 'int', 'isinstance', 'issubclass', 'iter', 'len', 'license', 'list', 'locals', 'map', 'max', 'memoryview', 'min', 'next', 'object', 'oct', 'open', 'ord', 'pow', 'print', 'property', 'range', 'repr', 'reversed', 'round', 'set', 'setattr', 'slice', 'sorted', 'staticmethod', 'str', 'sum', 'super', 'tuple', 'type', 'vars', 'zip']\n"
     ]
    }
   ],
   "source": [
    "print(dir(__builtins__))"
   ]
  },
  {
   "cell_type": "code",
   "execution_count": null,
   "metadata": {},
   "outputs": [],
   "source": []
  },
  {
   "cell_type": "markdown",
   "metadata": {},
   "source": [
    "We can categories the above built-ins as follows:\n",
    "* functions \n",
    "* constants\n",
    "* Exceptions base classes\n",
    "* dunder (private) methods\n",
    "\n",
    "# 1. builtin functions \n",
    "[https://docs.python.org/3.8/library/functions.html#built-in-funcs]\n",
    "\n",
    "The builtins also provide us with general functions which we can categorise as follows\n",
    "\n",
    "## builtin functions to create types \n",
    "(https://docs.python.org/3.8/library/stdtypes.html)\n",
    "\n",
    "| function | Description |\n",
    "|-|-|\n",
    "| **Numerical Types** | |\n",
    "| int | |\n",
    "| float | |\n",
    "| complex | |\n",
    "| **Boolean Types** | |\n",
    "| bool | |\n",
    "| **Sequence types** | |\n",
    "| list | |\n",
    "| tuple | |\n",
    "| range | |\n",
    "| **Text sequence type** | |\n",
    "| str | |\n",
    "| **Binary Sequence Types** | |\n",
    "| bytes | |\n",
    "| bytearray | |\n",
    "| memoryview | |\n",
    "| **Set types** | |\n",
    "| set | |\n",
    "| frozen set | |\n",
    "| **Mapping Types** | |\n",
    "| dict | |\n",
    "| **Other types** | |\n",
    "\n",
    "## Conversion\n",
    "There are a few functions to convert a variable in hexadecimal (hex()), octal (oct()) , ordinal (ord()), string (chr()) or unicode string (unichr())\n",
    "\n",
    "| function | Description |\n",
    "|-|-|\n",
    "| hex | |\n",
    "| oct | |\n",
    "| ord | |\n",
    "| chr | |\n",
    "\n",
    "## Math\n",
    "\n",
    "| function | Description |\n",
    "|-|-|\n",
    "| abs(x) | Returns absolute value of a number |\n",
    "| divmod(a, b) | Returns quotient and remainder of integer division |\n",
    "| max(iterable, \\*\\[, key, default\\])<br>max(arg1, arg2, \\*args\\[, key\\]) | Returns the largest of the given arguments or items in n iterable |\n",
    "| min(iterable, \\*\\[, key, default\\])<br>min(arg1, arg2, \\*args\\[, key\\]) | Returns the smallest of the given arguments or items in an iterable |\n",
    "| pow(base, exp\\[, mod\\]) | Raises a number to a power |\n",
    "| round(number\\[, ndigits\\]) | Rounds a floating-point value |\n",
    "| sum(iterable, /, start=0) | Sums the items of an iterable |\n",
    "\n",
    "## Conversion\n",
    "\n",
    "\n",
    "\n",
    "all\n",
    "any\n",
    "ascii\n",
    "bin\n",
    "breakpoint\n",
    "callable\n",
    "\n",
    "classmethod\n",
    "compile\n",
    "copyright\n",
    "credits\n",
    "delattr\n",
    "dir\n",
    "display\n",
    "\n",
    "enumerate\n",
    "eval\n",
    "exec\n",
    "filter\n",
    "format\n",
    "get_ipython\n",
    "getattr\n",
    "globals\n",
    "hasattr\n",
    "hash\n",
    "help\n",
    "id\n",
    "input\n",
    "isinstance\n",
    "issubclass\n",
    "iter\n",
    "len\n",
    "license\n",
    "locals\n",
    "map\n",
    "\n",
    "next\n",
    "object\n",
    "\n",
    "open\n",
    "\n",
    "\n",
    "print\n",
    "property\n",
    "repr\n",
    "reversed\n",
    "setattr\n",
    "slice\n",
    "sorted\n",
    "staticmethod\n",
    "super\n",
    "type\n",
    "vars\n",
    "zip\n",
    "\n",
    "\n",
    "# 2. constants \n",
    "(https://docs.python.org/3/library/constants.html#built-in-consts)\n",
    "\n",
    "> **Note:** The names None, False, True and __debug__ cannot be reassigned (assignments to them, even as an attribute name, raise SyntaxError), so they can be considered “true” constants.\n",
    "\n",
    "| | |\n",
    "|-|-|\n",
    "| True | The true value of the bool type. Assignments to True are illegal and raise a SyntaxError. | \n",
    "| False | The false value of the bool type. Assignments to False are illegal and raise a SyntaxError. |\n",
    "| None | The sole value of the type NoneType. None is frequently used to represent the absence of a value, as when default arguments are not passed to a function. Assignments to None are illegal and raise a SyntaxError. |\n",
    "| NotImplemented | pecial value which should be returned by the binary special methods (e.g. __eq__(), __lt__(), __add__(), __rsub__(), etc.) to indicate that the operation is not implemented with respect to the other type; may be returned by the in-place binary special methods (e.g. __imul__(), __iand__(), etc.) for the same purpose. Its truth value is true. |\n",
    "| Ellipsis | The same as the ellipsis literal “...”. Special value used mostly in conjunction with extended slicing syntax for user-defined container data types. |\n",
    "| \\_\\_debug\\_\\_ |This constant is true if Python was not started with an -O option. See also the assert statement.|\n",
    "\n",
    "# 3. Builtin's dunder methods \n",
    "(https://docs.python.org/3.8/library/stdtypes.html#special-attributes)\n",
    "\n",
    "'\\_\\_IPYTHON\\_\\_'\n",
    "'\\_\\_build\\_class\\_\\_'\n",
    "'\\_\\_debug\\_\\_'\n",
    "'\\_\\_doc\\_\\_'\n",
    "'\\_\\_import\\_\\_'\n",
    "'\\_\\_loader\\_\\_'\n",
    "'\\_\\_name\\_\\_'\n",
    "'\\_\\_package\\_\\_'\n",
    "'\\_\\_spec__'\n",
    "\n",
    "# 4. Builtin Exceptions \n",
    "[https://docs.python.org/3.8/library/exceptions.html]\n",
    "\n",
    "### Base classes\n",
    "The following exceptions are used mostly as base classes for other exceptions:\n",
    "\n",
    "| | | | | |\n",
    "|-|-|-|-|-|\n",
    "| BaseException | Exception | ArithmeticError | BufferError |  LookupError |\n",
    "\n",
    "### Conctrete Exceptions:\n",
    "The following exceptions are the exceptions that are usually raised:\n",
    "\n",
    "| | | | | | | |\n",
    "|-|-|-|-|-|-|-|\n",
    "| AssertionError | AttributeError | EOFError | FloatingPointError | GeneratorExit | ImportError | ModuleNotFoundError |\n",
    "| IndexError | KeyError | KeyboardInterrupt | MemoryError | NameError | NotImplementedError | OSError |\n",
    "| OverflowError | RecursionError | ReferenceError | RuntimeError | StopIteration | StopAsyncIteration | SyntaxError |\n",
    "| IndentationError | TabError | SystemError | SystemExit| TypeError | UnboundLocalError | UnicodeError |\n",
    "| UnicodeEncodeError | UnicodeDecodeError | UnicodeTranslateError | ValueError| ZeroDivisionError | EnvironmentError | IOError |\n",
    "| WindowsError | | | | | | |\n",
    "\n",
    "### OS Exceptions:\n",
    "The following exceptions are subclasses of OSError, they get raised depending on the system error code:\n",
    "\n",
    "| | | | | | |\n",
    "|-|-|-|-|-|-|\n",
    "| BlockingIOError | ChildProcessError | ConnectionError | BrokenPipeError | ConnectionAbortedError | ConnectionRefusedError |\n",
    "| ConnectionResetError | FileExistsError | FileNotFoundError | InterruptedError | IsADirectoryError | NotADirectoryError | \n",
    "| IsADirectoryError | NotADirectoryError | PermissionError | ProcessLookupError | TimeoutError | | \n",
    "\n",
    "### Warnings \n",
    "[https://docs.python.org/3.8/library/warnings.html#warning-categories]\n",
    "\n",
    "The following exceptions are used as warning categories\n",
    "\n",
    "| | | | | | | |\n",
    "|-|-|-|-|-|-|-|\n",
    "| Warning | UserWarning | DeprecationWarning | PendingDeprecationWarning | SyntaxWarning | RuntimeWarning |\n",
    "| FutureWarning | ImportWarning | UnicodeWarning | BytesWarning | ResourceWarning | |\n",
    "\n",
    "### Exception hierarchy\n",
    "The class hierarchy for built-in exceptions is:\n",
    "\n",
    "BaseException\n",
    " ├── SystemExit\n",
    " ├── KeyboardInterrupt\n",
    " ├── GeneratorExit\n",
    " └── Exception\n",
    "      ├── StopIteration\n",
    "      ├── StopAsyncIteration\n",
    "      ├── ArithmeticError\n",
    "      │    ├── FloatingPointError\n",
    "      │    ├── OverflowError\n",
    "      │    └── ZeroDivisionError\n",
    "      ├── AssertionError\n",
    "      ├── AttributeError\n",
    "      ├── BufferError\n",
    "      ├── EOFError\n",
    "      ├── ImportError\n",
    "      │    └── ModuleNotFoundError\n",
    "      ├── LookupError\n",
    "      │    ├── IndexError\n",
    "      │    └── KeyError\n",
    "      ├── MemoryError\n",
    "      ├── NameError\n",
    "      │    └── UnboundLocalError\n",
    "      ├── OSError\n",
    "      │    ├── BlockingIOError\n",
    "      │    ├── ChildProcessError\n",
    "      │    ├── ConnectionError\n",
    "      │    │    ├── BrokenPipeError\n",
    "      │    │    ├── ConnectionAbortedError\n",
    "      │    │    ├── ConnectionRefusedError\n",
    "      │    │    └── ConnectionResetError\n",
    "      │    ├── FileExistsError\n",
    "      │    ├── FileNotFoundError\n",
    "      │    ├── InterruptedError\n",
    "      │    ├── IsADirectoryError\n",
    "      │    ├── NotADirectoryError\n",
    "      │    ├── PermissionError\n",
    "      │    ├── ProcessLookupError\n",
    "      │    └── TimeoutError\n",
    "      ├── ReferenceError\n",
    "      ├── RuntimeError\n",
    "      │    ├── NotImplementedError\n",
    "      │    └── RecursionError\n",
    "      ├── SyntaxError\n",
    "      │    └── IndentationError\n",
    "      │         └── TabError\n",
    "      ├── SystemError\n",
    "      ├── TypeError\n",
    "      ├── ValueError\n",
    "      │    └── UnicodeError\n",
    "      │         ├── UnicodeDecodeError\n",
    "      │         ├── UnicodeEncodeError\n",
    "      │         └── UnicodeTranslateError\n",
    "      └── Warning\n",
    "           ├── DeprecationWarning\n",
    "           ├── PendingDeprecationWarning\n",
    "           ├── RuntimeWarning\n",
    "           ├── SyntaxWarning\n",
    "           ├── UserWarning\n",
    "           ├── FutureWarning\n",
    "           ├── ImportWarning\n",
    "           ├── UnicodeWarning\n",
    "           ├── BytesWarning\n",
    "           └── ResourceWarning\n"
   ]
  },
  {
   "cell_type": "code",
   "execution_count": null,
   "metadata": {},
   "outputs": [],
   "source": []
  }
 ],
 "metadata": {
  "kernelspec": {
   "display_name": "Python 3",
   "language": "python",
   "name": "python3"
  },
  "language_info": {
   "codemirror_mode": {
    "name": "ipython",
    "version": 3
   },
   "file_extension": ".py",
   "mimetype": "text/x-python",
   "name": "python",
   "nbconvert_exporter": "python",
   "pygments_lexer": "ipython3",
   "version": "3.7.4"
  }
 },
 "nbformat": 4,
 "nbformat_minor": 4
}
