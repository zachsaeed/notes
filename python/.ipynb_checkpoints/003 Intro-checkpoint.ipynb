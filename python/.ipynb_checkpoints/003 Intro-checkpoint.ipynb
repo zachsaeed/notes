{
 "cells": [
  {
   "cell_type": "markdown",
   "metadata": {},
   "source": [
    "https://github.com/cardwizard/JupyterSearch"
   ]
  },
  {
   "cell_type": "code",
   "execution_count": 1,
   "metadata": {},
   "outputs": [
    {
     "name": "stdout",
     "output_type": "stream",
     "text": [
      "results: \n",
      "{'_char_cache': {},\n",
      " '_facetmaps': {},\n",
      " '_total': None,\n",
      " 'collector': <whoosh.collectors.TopCollector object at 0x1101084d0>,\n",
      " 'docset': None,\n",
      " 'docterms': {25: [('content', b'else')],\n",
      "              32: [('content', b'else')],\n",
      "              36: [('content', b'else')],\n",
      "              37: [('content', b'else')],\n",
      "              38: [('content', b'else')],\n",
      "              112: [('content', b'else')],\n",
      "              179: [('content', b'else')],\n",
      "              227: [('content', b'else')],\n",
      "              233: [('content', b'else')],\n",
      "              266: [('content', b'else')],\n",
      "              270: [('content', b'else')],\n",
      "              273: [('content', b'else')],\n",
      "              278: [('content', b'else')],\n",
      "              279: [('content', b'else')],\n",
      "              281: [('content', b'else')],\n",
      "              282: [('content', b'else')],\n",
      "              283: [('content', b'else')],\n",
      "              285: [('content', b'else')],\n",
      "              288: [('content', b'else')],\n",
      "              291: [('content', b'else')],\n",
      "              292: [('content', b'else')],\n",
      "              293: [('content', b'else')],\n",
      "              300: [('content', b'else')]},\n",
      " 'highlighter': <whoosh.highlight.Highlighter object at 0x10ed44a10>,\n",
      " 'q': Term('content', 'else'),\n",
      " 'runtime': 0.0010471970000001107,\n",
      " 'searcher': <whoosh.searching.Searcher object at 0x1106619d0>,\n",
      " 'termdocs': {('content', b'else'): array('I', [25, 32, 36, 37, 38, 112, 179, 227, 233, 266, 270, 273, 278, 279, 281, 282, 283, 285, 288, 291, 292, 293, 300])},\n",
      " 'top_n': [(6.191350717401026, 36),\n",
      "           (5.887457251962417, 270),\n",
      "           (5.763984955325786, 292),\n",
      "           (5.759229715290042, 37),\n",
      "           (5.679882549544562, 285),\n",
      "           (5.59670308302531, 291),\n",
      "           (5.193647191915661, 293),\n",
      "           (4.701190387151097, 281),\n",
      "           (4.567890188597258, 288),\n",
      "           (4.431789177391381, 32)]}\n"
     ]
    }
   ],
   "source": [
    "// from search_magic import SearchMagic\n",
    "// get_ipython().register_magics(SearchMagic)\n",
    "// %create_index\n",
    "// %search else"
   ]
  },
  {
   "cell_type": "code",
   "execution_count": null,
   "metadata": {},
   "outputs": [],
   "source": []
  },
  {
   "cell_type": "code",
   "execution_count": null,
   "metadata": {},
   "outputs": [],
   "source": []
  }
 ],
 "metadata": {
  "kernelspec": {
   "display_name": "Python 3",
   "language": "python",
   "name": "python3"
  },
  "language_info": {
   "codemirror_mode": {
    "name": "ipython",
    "version": 3
   },
   "file_extension": ".py",
   "mimetype": "text/x-python",
   "name": "python",
   "nbconvert_exporter": "python",
   "pygments_lexer": "ipython3",
   "version": "3.7.4"
  }
 },
 "nbformat": 4,
 "nbformat_minor": 4
}
