{
 "cells": [
  {
   "cell_type": "markdown",
   "metadata": {},
   "source": [
    "https://github.com/cardwizard/JupyterSearch"
   ]
  },
  {
   "cell_type": "markdown",
   "metadata": {},
   "source": [
    "Class \n",
    "Intro about us\n",
    "Myself\n",
    "Paul\n",
    "\n",
    "Intro about course\n",
    "\n",
    "Rough curriculum\n",
    "    Stage 1a Basic/core python with OOP, whats new in latest python versions\n",
    "    Stage 2a advance python\n",
    "    Stage 2b design patterns / algorithms\n",
    "    Stage 3 databases/SQL/csv\n",
    "    Stage 4 numpy, pandas, matplotlib\n",
    "    Stage 5 microservices and cloud development\n",
    "        - HTMl CSS / java\n",
    "        - basic linux\n",
    "        - Microservices design, development and deployment on the cloud (AWS, Azure, docker, kubernetes etc )\n",
    "\n",
    "Explain how to take this course\n",
    "live classes - email\n",
    "facebook\n",
    "youtube\n",
    "Notes - released after class\n",
    "Assignments - released after class\n",
    "\n",
    "Assignments submissions will be expected from every student\n",
    "First 15 minutes will be a quick revision of the previous class aswell as assignment solution s u can check\n",
    "\n",
    "what we expect from the students:\n",
    "we will put in 100% and expect the same from you. \n",
    "1st 3-4 classes free. So that attendees can decide whether it is for them or not. After that monthly fees\n",
    "\n",
    "Student numbers:\n",
    "We had 275 students whatsapp\n",
    "200 now\n",
    "and the class size will reduce as more students leave\n",
    "The good side is we will have hard working / serious students left\n",
    "Speed of class will increase\n",
    "and as they say, to become the best in something, play against someone better than you\n",
    "\n",
    "Day 1\n",
    "Python docs\n",
    "basic command line\n",
    "Hello world\n",
    "pip\n",
    "\n",
    "\n",
    "Take more pointers from a previously written doc:\n",
    "Our first class will be divided into 2 halves. We will cover software setup and basic windows command line for the 1st hour and python for the 2nd.\n",
    "Students who will be excluded from the course due to 2 consecutive non-attendances or other factors will automatically stop getting the zoom link every week. As mentioned earlier, my aim is to separate the wheat from the chaff, and I want hardworking students so the course is enjoyable for everyone.\n",
    "You will need help and have questions as part of your homework/assignments. For this, it is key that you join the facebook group. The group is strictly for course discussions so non-course posts will not be tolerated.\n",
    "https://www.facebook.com/groups/2737811649817496\n",
    " To use the group effectively, please search for your query before posting, in case it is already answered in a previous posting and try to help others as it will only make your own concepts stronger. \n",
    "I will release a curriculum soon but a brief structure for now is as follows:\n",
    "•\tBasic/core python (with OOP) – 3-4 months\n",
    "•\tNewer versions of python and Advanced/deep python – 1-2 months\n",
    "•\tDesign Patterns / datastructures & Algorithms  / Numpy and Pandas / Data processing (csv) – 2-3 months \n",
    "o\tDesign Patterns / datastructures & Algorithms is a dry topic so combined with the other topics.\n",
    "•\tDatabases /SQL and data visualisation (matplotlib) – 1-2 months\n",
    "The durations quoted above is the maximum. Expect the time periods to reduce significantly as our class size reduces and we are left with the cream of students.\n",
    " In the end, this is not going to be an easy journey. A bit like forcing yourself to go to the gym to lose weight and expecting quick results all the while not controlling your diet at home. \n",
    "\n",
    "In the same way, this class will not help you if you do not take the time to practice at home. Try to stay a step ahead from the next class to keep up. The market is hot right now and the consistent ones will be rewarded. \n",
    "See you all soon\n",
    "\n",
    "\n"
   ]
  }
 ],
 "metadata": {
  "kernelspec": {
   "display_name": "Python 3",
   "language": "python",
   "name": "python3"
  },
  "language_info": {
   "codemirror_mode": {
    "name": "ipython",
    "version": 3
   },
   "file_extension": ".py",
   "mimetype": "text/x-python",
   "name": "python",
   "nbconvert_exporter": "python",
   "pygments_lexer": "ipython3",
   "version": "3.8.7"
  }
 },
 "nbformat": 4,
 "nbformat_minor": 4
}
