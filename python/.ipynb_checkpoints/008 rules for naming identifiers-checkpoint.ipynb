{
 "cells": [
  {
   "cell_type": "markdown",
   "metadata": {},
   "source": [
    "# Python Identifiers\n",
    "Python Identifier is the name we give to identify a variable, function, class, module or other object. That means whenever we want to give an entity a name, that’s called identifier.\n",
    "\n",
    "Sometimes variable and identifier are often misunderstood as same but they are not. Well for clarity, let’s see what is a variable?\n",
    "\n",
    "## Variable in Python\n",
    "A variable, as the name indicates is something whose value is changeable over time. In fact a variable is a memory location where a value can be stored. Later we can retrieve the value to use. But for doing it we need to give a nickname to that memory location so that we can refer to it. That’s identifier, the nickname.\n",
    "\n",
    "## Rules for writing Identifiers\n",
    "There are some rules for writing Identifiers:\n",
    "\n",
    "* Identifiers can be combination of \n",
    "    * uppercase \n",
    "    * lowercase letters, \n",
    "    * digits \n",
    "    * underscore(_). \n",
    "    \n",
    "  So myVariable, variable_1, variable_for_print all are valid python identifiers. \n",
    "    ```python\n",
    "      _cats = 5\n",
    "      cats = 6\n",
    "      cats_123 = 10  \n",
    "     ```\n",
    "\n",
    "  \n",
    "* An Identifier can not start with digit. So while variable1 is valid, 1variable is not valid.\n",
    "    ```python\n",
    "    # 2cats = 5 #SyntaxError: invalid syntax\n",
    "    ```\n",
    "\n",
    "\n",
    "* We can’t use special symbols like !,#,@,%,$ etc in our Identifier.\n",
    "    ```python\n",
    "        # cats@gmail = 5 #SyntaxError: can't assign to operator\n",
    "    ```\n",
    "\n",
    "\n",
    "* Identifiers are case-sensitive\n",
    "    ```python\n",
    "        CATS != cats\n",
    "    ```\n",
    "\n",
    "\n",
    "* Identifier can be of any length.\n",
    "\n",
    "## Best practices naming conventions:\n",
    "Though these are hard rules for writing identifiers, also there are some naming conventions which are not mandatory but rather good practices to follow.\n",
    "\n",
    "* As per pep8 convention, \n",
    "    * class names need to be *CamelCase* \n",
    "    * while attribute and method names need to be *snake_case*\n",
    "    * constants should be CAPITAL_SNAKE_CASE\n",
    "* Names should be self descriptive foe example, while c = 10 is valid, writing count = 10 would make more sense and it would be easier to figure out what it does even when you look at your code after a long time."
   ]
  },
  {
   "cell_type": "code",
   "execution_count": null,
   "metadata": {},
   "outputs": [],
   "source": []
  }
 ],
 "metadata": {
  "kernelspec": {
   "display_name": "Python 3",
   "language": "python",
   "name": "python3"
  },
  "language_info": {
   "codemirror_mode": {
    "name": "ipython",
    "version": 3
   },
   "file_extension": ".py",
   "mimetype": "text/x-python",
   "name": "python",
   "nbconvert_exporter": "python",
   "pygments_lexer": "ipython3",
   "version": "3.7.4"
  }
 },
 "nbformat": 4,
 "nbformat_minor": 4
}
