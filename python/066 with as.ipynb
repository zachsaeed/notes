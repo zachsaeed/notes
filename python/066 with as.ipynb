{
 "cells": [
  {
   "cell_type": "markdown",
   "metadata": {},
   "source": [
    "A with-as statement in Python is used in exception handling to make the code cleaner and much more readable. It simplifies the management of common resources like file streams. \n",
    "\n",
    "Observe the following code example related to file handling on how the use of with statement makes code cleaner.\n",
    "\n",
    "## 1. No exception handling:\n",
    "An exception during the file.write() call in the first implementation can prevent the file from closing properly which may introduce several bugs in the code, i.e. many changes in files do not go into effect until the file is properly  closed"
   ]
  },
  {
   "cell_type": "code",
   "execution_count": 2,
   "metadata": {},
   "outputs": [],
   "source": [
    "file = open('066withasexample', 'w')\n",
    "file.write('hello world !')\n",
    "file.close()"
   ]
  },
  {
   "cell_type": "markdown",
   "metadata": {},
   "source": [
    "## 2. Exception handling using try except/finally blocks\n",
    "This is a proper way to take care of all exceptions but using the 'with' statement in the next example makes the code compact and much more readable."
   ]
  },
  {
   "cell_type": "code",
   "execution_count": 3,
   "metadata": {},
   "outputs": [],
   "source": [
    "file = open('file_path', 'w')\n",
    "try:\n",
    "    file.write('hello world')\n",
    "finally:\n",
    "    file.close()"
   ]
  },
  {
   "cell_type": "markdown",
   "metadata": {},
   "source": [
    "## 3. using with statement"
   ]
  },
  {
   "cell_type": "code",
   "execution_count": 4,
   "metadata": {},
   "outputs": [],
   "source": [
    "with open('file_path', 'w') as file:\n",
    "    file.write('hello world !')"
   ]
  },
  {
   "cell_type": "markdown",
   "metadata": {},
   "source": [
    "Notice that unlike the first two implementations, there is no need to call file.close() when using with statement. The with statement itself ensures proper acquisition and release of resources. Thus, with statement helps avoiding bugs and leaks by ensuring that a resource is properly released when the code using the resource is completely executed.\n",
    "\n",
    "The with statement is popularly used with file streams, as shown above and with Locks, sockets, subprocesses and telnets etc.\n",
    "\n",
    "# Supporting the “with” statement in user defined objects (Context Managers):\n",
    "**Context managers** allow setup and cleanup actions to be taken for objects when their creation (constructor) is wrapped with a with statement. The behavior of the context manager is determined by two magic methods:\n",
    "\n",
    "### \\_\\_enter\\_\\_(self)\n",
    "Defines what the context manager should do at the beginning of the block created by the with statement. Note that the return value of \\_\\_enter\\_\\_ is bound to the target of the with statement, or the name after the as.\n",
    "\n",
    "### \\_\\_exit\\_\\_(self, exception_type, exception_value, traceback)\n",
    "Defines what the context manager should do after its block has been executed (or terminates). It can be used to handle exceptions, perform cleanup, or do something always done immediately after the action in the block. \n",
    "\n",
    "If the block executes successfully, exception_type, exception_value, and traceback will be None. Otherwise, you can choose to handle the exception or let the user handle it; if you want to handle it, make sure \\_\\_exit\\_\\_ returns True after all is said and done. If you don't want the exception to be handled by the context manager, just let it happen.\n",
    "\n",
    "\\_\\_enter\\_\\_ and \\_\\_exit\\_\\_ can be useful for specific classes that have well-defined and common behavior for setup and cleanup. You can also use these methods to create generic context managers that wrap other objects.\n",
    "\n",
    "Consider the following example for further clarification."
   ]
  },
  {
   "cell_type": "code",
   "execution_count": 9,
   "metadata": {},
   "outputs": [],
   "source": [
    "# a simple file writer object\n",
    "class MessageWriter(object):\n",
    "    def __init__(self, file_name):\n",
    "        self.file_name = file_name\n",
    "\n",
    "    def __enter__(self):\n",
    "        self.file = open(self.file_name, 'w')\n",
    "        return self.file\n",
    "\n",
    "    def __exit__(self, exception_type, exception_value, traceback):\n",
    "        self.file.close()\n",
    "\n",
    "\n",
    "# using with statement with MessageWriter\n",
    "with MessageWriter('my_file.txt') as xfile:\n",
    "    xfile.write('hello world 2')"
   ]
  },
  {
   "cell_type": "markdown",
   "metadata": {},
   "source": [
    "* In the code above, what follows the with keyword is the constructor of MessageWriter.\n",
    "* As soon as the execution enters the context of the with statement a MessageWriter object is created and python then calls the \\_\\_enter\\_\\_() method. In this \\_\\_enter\\_\\_() method, initialize the resource you wish to use in the object.\n",
    "* This  \\_\\_enter\\_\\_() method should always return a descriptor of the acquired resource.\n",
    "\n",
    "## What are resource descriptors?\n",
    "* These are the handles provided by the operating system to access the requested resources. In the precious code block, file is a descriptor of the file stream resource ie  file = open('hello.txt')\n",
    "* In the MessageWriter example provided above, the \\_\\_enter\\_\\_() method creates a file descriptor and returns it. The name xfile here is used to refer to the file descriptor returned by the \\_\\_enter\\_\\_() method.\n",
    "* The block of code which uses the acquired resource is placed inside the block of the with statement.\n",
    "* As soon as the with block is executed, the \\_\\_exit\\_\\_() method is called. All the acquired resources are released in the \\_\\_exit\\_\\_() method. This is how we use the with statement with user defined objects.\n",
    "\n",
    "\n",
    "\n",
    "# The contextlib module\n",
    "[https://docs.python.org/3/library/contextlib.html]\n",
    "> Note: Here, we require the knowledge of generators, decorators and yield.\n",
    "\n",
    "A class based context manager as shown previously is not the only way to support the with statement in user defined objects. The contextlib module provides a few more abstractions built upon the basic context manager interface. Here is how we can rewrite the context manager for the MessageWriter object using the contextlib module"
   ]
  },
  {
   "cell_type": "code",
   "execution_count": null,
   "metadata": {},
   "outputs": [],
   "source": [
    "from contextlib import contextmanager\n",
    "\n",
    "class MessageWriter(object):\n",
    "    def __init__(self, filename):\n",
    "        self.file_name = filename\n",
    "\n",
    "    @contextmanager\n",
    "    def open_file(self):\n",
    "        try:\n",
    "            file = open(self.file_name, 'w')\n",
    "            yield file\n",
    "        finally:\n",
    "            file.close()\n",
    "\n",
    "\n",
    "# usage\n",
    "message_writer = MessageWriter('hello.txt')\n",
    "with message_writer.open_file() as my_file:\n",
    "    my_file.write('hello world')"
   ]
  },
  {
   "cell_type": "markdown",
   "metadata": {},
   "source": [
    "* In this code example, because of the yield statement in its definition, the function open_file() is a generator function.\n",
    "* When this open_file() function is called, it creates a resource descriptor named file. This resource descriptor is then passed to the caller and is represented here by the variable my_file. After the code inside the with block is executed the program control returns back to the open_file() function. The open_file() function resumes its execution and executes the code following the yield statement. This part of code which appears after the yield statement releases the acquired resources. The @contextmanager here is a decorator.\n",
    "\n",
    "The previous class-based implementation and this generator-based implementation of context managers is internally the same. While the later seems more readable, it requires the knowledge of generators, decorators and yield."
   ]
  }
 ],
 "metadata": {
  "kernelspec": {
   "display_name": "Python 3",
   "language": "python",
   "name": "python3"
  },
  "language_info": {
   "codemirror_mode": {
    "name": "ipython",
    "version": 3
   },
   "file_extension": ".py",
   "mimetype": "text/x-python",
   "name": "python",
   "nbconvert_exporter": "python",
   "pygments_lexer": "ipython3",
   "version": "3.7.4"
  }
 },
 "nbformat": 4,
 "nbformat_minor": 4
}
