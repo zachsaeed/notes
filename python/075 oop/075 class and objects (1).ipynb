{
 "cells": [
  {
   "cell_type": "markdown",
   "metadata": {},
   "source": [
    "# Python Class\n",
    "Basic data types in python refer to only one kind of data at a time. By using classes, we can declare a data type which itself contains more than one data types and can work with them with the help of function. \n",
    "\n",
    "Python class is just a blueprint that defines a structure for a custom datatype. A class contains variables (Attributes) and methods. To use the classes, we create objects/instances which is a physical representation of a class in memory.\n",
    "\n",
    "## Simple Python Class Declaration\n",
    "Here’s the very basic structure of python class definition. A class contains the following 3 types of members:\n",
    "\n",
    "```python\n",
    "class ClassName:  \n",
    "    # 1. variables  (Also called attributes)\n",
    "    # 2. constructor method (__init__())  \n",
    "    # 3. other method definitions (functions defined within a class are called methods)\n",
    "    pass\n",
    "```\n",
    "\n",
    "Now, let’s work with real examples."
   ]
  },
  {
   "cell_type": "code",
   "execution_count": 12,
   "metadata": {},
   "outputs": [],
   "source": [
    "#definition of the class starts here  \n",
    "class Person:  # This line marks the beginning of class definition for class ‘Person’.\n",
    "    #initializing the variables  \n",
    "    name = \"\"  \n",
    "    age = 0  \n",
    "    '''\n",
    "    * ‘name’ and ‘age’ are two member variables of the class ‘Person’. \n",
    "    * Every time we declare an object of this class, each object will contain their own copies of these \n",
    "      two variables as its members. \n",
    "    *  This part is optional as they can be initialized by the constructor.  \n",
    "    '''\n",
    "    \n",
    "    # defining constructor  \n",
    "    def __init__(self, personName, personAge):  \n",
    "        self.name = personName  \n",
    "        self.age = personAge  \n",
    "    '''\n",
    "    * Python class constructor is the first piece of code to be executed when you create a new object of a class.\n",
    "    * The first parameter must be ‘self’, as it passes a reference to the instance of the class itself \n",
    "    * Primarily, the constructor can be used to put values in the member variables ie ‘personName’ and ‘personAge’ \n",
    "      are two parameters to sent when a new object is to be created.\n",
    "    * You may also print messages in the constructor to be confirmed whether the object has been created.\n",
    "    ''' \n",
    "\n",
    "    #defining class methods  \n",
    "    def showName(self):  \n",
    "        print(self.name)\n",
    "        # can also have a return value just like functions.\n",
    "         \n",
    "  \n",
    "    def showAge(self):  \n",
    "        print(self.age)  \n",
    "    \n",
    "    '''\n",
    "    the first parameter can be a reference to self (instance), class or empty depending on the type of method you need.\n",
    "    ie, static method, or class method (More later). When the method is called, a reference to the instance is \n",
    "    passed ito the 'self' parameter automatically. therefore, we can ignore self and pass only the parameters \n",
    "    defined after it \n",
    "    \n",
    "    '''\n",
    "    \n",
    "    #end of the class definition  \n"
   ]
  },
  {
   "cell_type": "markdown",
   "metadata": {},
   "source": [
    "# Python Object\n",
    "The class defined above is just a structure / blueprint. To use it we need to create an object/instance which is a representation of the class structure in memory"
   ]
  },
  {
   "cell_type": "code",
   "execution_count": 13,
   "metadata": {},
   "outputs": [
    {
     "name": "stdout",
     "output_type": "stream",
     "text": [
      "23\n",
      "Anne\n"
     ]
    }
   ],
   "source": [
    "# Create an instance/object of the class  \n",
    "person1 = Person(\"John\", 23)  \n",
    "#Create another object of the same class  \n",
    "person2 = Person(\"Anne\", 102)  \n",
    "#call member methods of the objects  \n",
    "person1.showAge()  \n",
    "person2.showName() "
   ]
  },
  {
   "cell_type": "markdown",
   "metadata": {},
   "source": [
    "The way objects are created in python is quite simple. At first, you put the variable to store the object which is followed by the assignment operator and the name of the class with parameters (minus self or cls) as defined in the constructor.\n",
    "\n",
    "Remember, excluding self, the number and type of parameters should be compatible with the parameters received in the constructor function.\n",
    "\n",
    "When the object has been created, member methods can be called and member attributes can be accessed using the '.' operator (provided they are accessible).\n",
    "\n",
    "```python\n",
    "#print the name of person1 by directly accessing the ‘name’ attribute\n",
    "print(person1.name)\n",
    "```\n",
    "\n",
    "# type builtin method\n",
    "We can use the type builtin method to find out the class of an object/instance"
   ]
  },
  {
   "cell_type": "code",
   "execution_count": 10,
   "metadata": {},
   "outputs": [
    {
     "name": "stdout",
     "output_type": "stream",
     "text": [
      "<class '__main__.Person'>\n",
      "<class '__main__.Person'>\n"
     ]
    }
   ],
   "source": [
    "print(type(person2))  \n",
    "print(person2.__class__)"
   ]
  },
  {
   "cell_type": "markdown",
   "metadata": {},
   "source": [
    "XX object\n",
    "pass by reference vs value\n",
    "self\n",
    "XX- inheritance (class ClassName(object): same as class ClassName():)\n",
    "object class\n",
    "XX super - basic\n",
    "multiple inheritance\n",
    "super - extended\n",
    "dunder / magic methods\n",
    "operator overloading (https://www.journaldev.com/14637/python-operator-overloading)\n",
    "constructors __new__, __init__ and __del__  pycharm"
   ]
  },
  {
   "cell_type": "code",
   "execution_count": null,
   "metadata": {},
   "outputs": [],
   "source": []
  }
 ],
 "metadata": {
  "kernelspec": {
   "display_name": "Python 3",
   "language": "python",
   "name": "python3"
  },
  "language_info": {
   "codemirror_mode": {
    "name": "ipython",
    "version": 3
   },
   "file_extension": ".py",
   "mimetype": "text/x-python",
   "name": "python",
   "nbconvert_exporter": "python",
   "pygments_lexer": "ipython3",
   "version": "3.7.4"
  }
 },
 "nbformat": 4,
 "nbformat_minor": 4
}
