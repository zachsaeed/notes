{
 "cells": [
  {
   "cell_type": "markdown",
   "metadata": {},
   "source": [
    "# The walrus operator\n",
    "The walrus operator (:=) assigns values to variables as part of a larger expression."
   ]
  },
  {
   "cell_type": "code",
   "execution_count": 2,
   "metadata": {},
   "outputs": [
    {
     "ename": "SyntaxError",
     "evalue": "invalid syntax (<ipython-input-2-161887543c89>, line 2)",
     "output_type": "error",
     "traceback": [
      "\u001b[0;36m  File \u001b[0;32m\"<ipython-input-2-161887543c89>\"\u001b[0;36m, line \u001b[0;32m2\u001b[0m\n\u001b[0;31m    if (n := len(a)) > 10:\u001b[0m\n\u001b[0m          ^\u001b[0m\n\u001b[0;31mSyntaxError\u001b[0m\u001b[0;31m:\u001b[0m invalid syntax\n"
     ]
    }
   ],
   "source": [
    "a = \"Hello. How are you?\"\n",
    "if (n := len(a)) > 10:\n",
    "    print(f\"String is too long ({n} elements, expected <= 10)\")\n",
    "\n",
    "# It essentially replaces the code:\n",
    "n = len(a)\n",
    "if n > 10:\n",
    "    print(f\"String is too long ({n} elements, expected <= 10)\")"
   ]
  },
  {
   "cell_type": "markdown",
   "metadata": {},
   "source": [
    "It is useful when we need a value twice. Once to test and second to process it. The operator is also useful with while-loops that compute a value to test loop termination and then need that same value again in the body of the loop:\n",
    "\n",
    "```python\n",
    "# Loop over fixed length blocks\n",
    "while ( block := f.read(256) ) != '':\n",
    "    # process(block)\n",
    "```\n",
    "> **Note:** b := a+1 and b := (a+1) are the same"
   ]
  },
  {
   "cell_type": "code",
   "execution_count": null,
   "metadata": {},
   "outputs": [],
   "source": [
    "a = 11\n",
    "b = 2\n",
    "\n",
    "print(b := a + 1)  # 12\n",
    "print(b)  # 12\n",
    "\n",
    "b = 2\n",
    "print(b := (a + 1))  # 12\n",
    "print(b)  # 12\n",
    "\n",
    "b = 2\n",
    "print((b := a) + 1)  # 12\n",
    "print(b)  # 11"
   ]
  },
  {
   "cell_type": "code",
   "execution_count": null,
   "metadata": {},
   "outputs": [],
   "source": []
  }
 ],
 "metadata": {
  "kernelspec": {
   "display_name": "Python 3",
   "language": "python",
   "name": "python3"
  },
  "language_info": {
   "codemirror_mode": {
    "name": "ipython",
    "version": 3
   },
   "file_extension": ".py",
   "mimetype": "text/x-python",
   "name": "python",
   "nbconvert_exporter": "python",
   "pygments_lexer": "ipython3",
   "version": "3.7.4"
  }
 },
 "nbformat": 4,
 "nbformat_minor": 4
}
