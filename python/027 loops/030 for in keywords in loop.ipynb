{
 "cells": [
  {
   "cell_type": "markdown",
   "metadata": {},
   "source": [
    "Python for loop is used to iterate over a list of elements or strings. For loop is present in almost all programming languages and is used for iteration, same is the case with python for loops too. \n",
    "\n",
    "## Python for loop\n",
    "Python for loop is used to iterate over an iterable object like list, tuple, range or strings. The basic structure of Python for loop is given below.\n",
    "\n",
    "```console\n",
    "for itarator_current_position in iterable_object:\n",
    "    Statements\n",
    "    . . .\n",
    "    Statements\n",
    "else : #this scope is optional\n",
    "    # This statements will be executed if the loop completes normally and it was not stopped by a break statement.\n",
    "    # If the loop encounters a break statement, this else wont run\n",
    "```\n",
    "item_current_position references the current position of our iterator within the iterable.\n",
    "It will iterate over (run through) every item of the collection and then end when it has visited all items\n",
    "\n",
    "For example, suppose we have a word, we need to print each letter of that word. So we can use python for loop as shown below."
   ]
  },
  {
   "cell_type": "code",
   "execution_count": 1,
   "metadata": {},
   "outputs": [
    {
     "name": "stdout",
     "output_type": "stream",
     "text": [
      "a\n",
      "n\n",
      "a\n",
      "c\n",
      "o\n",
      "n\n",
      "d\n",
      "a\n"
     ]
    }
   ],
   "source": [
    "word = \"anaconda\"\n",
    "\n",
    "for letter in word:\n",
    "    print (letter)"
   ]
  },
  {
   "cell_type": "markdown",
   "metadata": {},
   "source": [
    "Again, you can use for loop to access a List data. Following code can help to understand the thing."
   ]
  },
  {
   "cell_type": "code",
   "execution_count": 2,
   "metadata": {},
   "outputs": [
    {
     "name": "stdout",
     "output_type": "stream",
     "text": [
      "Apple\n",
      "Banana\n",
      "Car\n",
      "Dolphin\n"
     ]
    }
   ],
   "source": [
    "words = [\"Apple\", \"Banana\", \"Car\", \"Dolphin\" ]\n",
    "\n",
    "for word in words:\n",
    "    print (word)"
   ]
  },
  {
   "cell_type": "markdown",
   "metadata": {},
   "source": [
    "## Python Nested For Loop\n",
    "\n",
    "You can also write for loops inside other for loops. But in this case, you have to maintain the indentation properly. The following code will illustrate python nested for loop."
   ]
  },
  {
   "cell_type": "code",
   "execution_count": 3,
   "metadata": {},
   "outputs": [
    {
     "name": "stdout",
     "output_type": "stream",
     "text": [
      "The following lines will print each letters of Apple\n",
      "A\n",
      "p\n",
      "p\n",
      "l\n",
      "e\n",
      "\n",
      "The following lines will print each letters of Banana\n",
      "B\n",
      "a\n",
      "n\n",
      "a\n",
      "n\n",
      "a\n",
      "\n",
      "The following lines will print each letters of Car\n",
      "C\n",
      "a\n",
      "r\n",
      "\n",
      "The following lines will print each letters of Dolphin\n",
      "D\n",
      "o\n",
      "l\n",
      "p\n",
      "h\n",
      "i\n",
      "n\n",
      "\n"
     ]
    }
   ],
   "source": [
    "words= [\"Apple\", \"Banana\", \"Car\", \"Dolphin\" ]\n",
    "\n",
    "for word in words: # This loop is fetching word from the list   \n",
    "    print (\"The following lines will print each letters of \"+word)\n",
    "    for letter in word: # This loop is fetching letters from the word\n",
    "        print (letter)\n",
    "    print(\"\") #This print is used to print a blank line"
   ]
  },
  {
   "cell_type": "markdown",
   "metadata": {},
   "source": [
    "## the else block\n",
    "The else clause executes after the loop completes normally. This means that the loop did not encounter a break statement and is NOT executed when the loop is terminated by a break statement."
   ]
  },
  {
   "cell_type": "code",
   "execution_count": 5,
   "metadata": {},
   "outputs": [
    {
     "name": "stdout",
     "output_type": "stream",
     "text": [
      "1\n",
      "loop iteration\n",
      "2\n",
      "loop iteration\n",
      "3\n",
      "loop iteration\n",
      "No Break. Inside else\n",
      "Outside he loop. Loop ended naturally\n"
     ]
    }
   ],
   "source": [
    "# else is always executed at the end of the loop as it ends naturally\n",
    "for i in range(1, 4):\n",
    "    print(i)\n",
    "    print(\"loop iteration\")\n",
    "else:  # Executed because no break in for\n",
    "    print(\"No Break. Inside else\")\n",
    "print('Outside he loop. Loop ended naturally')"
   ]
  },
  {
   "cell_type": "code",
   "execution_count": 6,
   "metadata": {},
   "outputs": [
    {
     "name": "stdout",
     "output_type": "stream",
     "text": [
      "1\n",
      "for Loop terminated by break\n"
     ]
    }
   ],
   "source": [
    "# else block is NOT executed in below :\n",
    "for i in range(1, 4):\n",
    "    print(i)\n",
    "    break\n",
    "else:  # Not executed as there is a break\n",
    "    print(\"No Break\")\n",
    "print('for Loop terminated by break')\n",
    "# 1\n",
    "# for Loop terminated by break"
   ]
  },
  {
   "cell_type": "code",
   "execution_count": null,
   "metadata": {},
   "outputs": [],
   "source": []
  }
 ],
 "metadata": {
  "kernelspec": {
   "display_name": "Python 3",
   "language": "python",
   "name": "python3"
  },
  "language_info": {
   "codemirror_mode": {
    "name": "ipython",
    "version": 3
   },
   "file_extension": ".py",
   "mimetype": "text/x-python",
   "name": "python",
   "nbconvert_exporter": "python",
   "pygments_lexer": "ipython3",
   "version": "3.7.4"
  }
 },
 "nbformat": 4,
 "nbformat_minor": 4
}
